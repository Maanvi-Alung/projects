{
 "cells": [
  {
   "cell_type": "markdown",
   "metadata": {},
   "source": [
    "# Basic Level (1-3)\n",
    "Access Dictionary Elements\n",
    "Write a Python program to access the value associated with a given key in a dictionary.\n",
    "Example: Dictionary: {\"name\": \"John\", \"age\": 25}, Key: \"age\" → Output: 25\n",
    "\n",
    "Add/Update Key-Value Pair\n",
    "Write a Python program to add or update a key-value pair in a dictionary.\n",
    "Example: Dictionary: {\"a\": 1, \"b\": 2}, Add \"c\": 3 → Output: {\"a\": 1, \"b\": 2, \"c\": 3}\n",
    "\n",
    "Check if Key Exists\n",
    "Write a Python program to check if a given key exists in a dictionary.\n",
    "Example: Dictionary: {\"name\": \"Alice\", \"age\": 30}, Key: \"age\" → Output: True"
   ]
  },
  {
   "cell_type": "code",
   "execution_count": 1,
   "metadata": {},
   "outputs": [
    {
     "name": "stdout",
     "output_type": "stream",
     "text": [
      "25\n"
     ]
    }
   ],
   "source": [
    "def g(d, key):\n",
    "    return d.get(key, \"Key not found\")\n",
    "\n",
    "print(g({\"name\": \"John\", \"age\": 25}, \"age\")) \n"
   ]
  },
  {
   "cell_type": "code",
   "execution_count": 2,
   "metadata": {},
   "outputs": [
    {
     "name": "stdout",
     "output_type": "stream",
     "text": [
      "{'a': 1, 'b': 2, 'c': 3}\n"
     ]
    }
   ],
   "source": [
    "def au(d, key, value):\n",
    "    d[key] = value\n",
    "    return d\n",
    "\n",
    "print(au({\"a\": 1, \"b\": 2}, \"c\", 3))  \n"
   ]
  },
  {
   "cell_type": "code",
   "execution_count": 3,
   "metadata": {},
   "outputs": [
    {
     "name": "stdout",
     "output_type": "stream",
     "text": [
      "True\n"
     ]
    }
   ],
   "source": [
    "def check_key(d, key):\n",
    "    return key in d\n",
    "\n",
    "print(check_key({\"name\": \"Alice\", \"age\": 30}, \"age\"))  \n"
   ]
  },
  {
   "cell_type": "markdown",
   "metadata": {},
   "source": [
    "# Intermediate Level (4-7)\n",
    "Merge Two Dictionaries\n",
    "Write a Python program to merge two dictionaries into one.\n",
    "Example: {\"a\": 1, \"b\": 2} and {\"c\": 3, \"d\": 4} → Output: {\"a\": 1, \"b\": 2, \"c\": 3, \"d\": 4}\n",
    "\n",
    "Count Frequency of Elements in a List using Dictionary\n",
    "Write a Python program to count the frequency of each element in a given list using a dictionary.\n",
    "Example: List: [1, 2, 2, 3, 1, 4] → Output: {1: 2, 2: 2, 3: 1, 4: 1}\n",
    "\n",
    "Find Maximum Value in Dictionary\n",
    "Write a Python program to find the key with the maximum value in a dictionary.\n",
    "Example: {\"a\": 10, \"b\": 20, \"c\": 15} → Output: \"b\"\n",
    "\n",
    "Remove a Key from Dictionary\n",
    "Write a Python program to remove a specific key from a dictionary.\n",
    "Example: Dictionary: {\"a\": 1, \"b\": 2, \"c\": 3}, Remove key \"b\" → Output: {\"a\": 1, \"c\": 3}"
   ]
  },
  {
   "cell_type": "code",
   "execution_count": 5,
   "metadata": {},
   "outputs": [
    {
     "name": "stdout",
     "output_type": "stream",
     "text": [
      "{'a': 1, 'b': 3, 'd': 4}\n"
     ]
    }
   ],
   "source": [
    "def merge_dicts(d1, d2):\n",
    "    return {**d1, **d2}\n",
    "\n",
    "print(merge_dicts({\"a\": 1, \"b\": 2}, {\"c\": 3, \"d\": 4}))  \n"
   ]
  },
  {
   "cell_type": "code",
   "execution_count": 7,
   "metadata": {},
   "outputs": [
    {
     "name": "stdout",
     "output_type": "stream",
     "text": [
      "True\n"
     ]
    }
   ],
   "source": [
    "def check(d, key):\n",
    "    return key in d\n",
    "\n",
    "print(check({\"name\": \"Alice\", \"age\": 30}, \"age\")) \n"
   ]
  },
  {
   "cell_type": "markdown",
   "metadata": {},
   "source": [
    "# Advanced Level (8-10)\n",
    "Invert a Dictionary\n",
    "Write a Python program to invert a dictionary (swap keys and values).\n",
    "Example: {\"a\": 1, \"b\": 2, \"c\": 3} → Output: {1: \"a\", 2: \"b\", 3: \"c\"}\n",
    "\n",
    "Group Elements with Same Values\n",
    "Write a Python program to group keys in a dictionary that have the same value.\n",
    "Example: {\"a\": 1, \"b\": 2, \"c\": 1, \"d\": 2} → Output: {1: [\"a\", \"c\"], 2: [\"b\", \"d\"]}\n",
    "\n",
    "Nested Dictionary – Access and Update Nested Value\n",
    "Write a Python program to access and update a value inside a nested dictionary.\n",
    "Example: {\"person\": {\"name\": \"John\", \"age\": 30}}, Update \"age\": 31"
   ]
  },
  {
   "cell_type": "code",
   "execution_count": 8,
   "metadata": {},
   "outputs": [
    {
     "name": "stdout",
     "output_type": "stream",
     "text": [
      "{1: 'a', 2: 'b', 3: 'c'}\n"
     ]
    }
   ],
   "source": [
    "def invert(d):\n",
    "    return {v: k for k, v in d.items()}\n",
    "\n",
    "print(invert({\"a\": 1, \"b\": 2, \"c\": 3}))  \n"
   ]
  },
  {
   "cell_type": "code",
   "execution_count": 9,
   "metadata": {},
   "outputs": [
    {
     "name": "stdout",
     "output_type": "stream",
     "text": [
      "{1: ['a', 'c'], 2: ['b', 'd']}\n"
     ]
    }
   ],
   "source": [
    "def group_by_value(d):\n",
    "    grouped = {}\n",
    "    for k, v in d.items():\n",
    "        grouped.setdefault(v, []).append(k)\n",
    "    return grouped\n",
    "\n",
    "print(group_by_value({\"a\": 1, \"b\": 2, \"c\": 1, \"d\": 2}))  \n"
   ]
  },
  {
   "cell_type": "code",
   "execution_count": 10,
   "metadata": {},
   "outputs": [
    {
     "name": "stdout",
     "output_type": "stream",
     "text": [
      "{'person': {'name': 'John', 'age': 31}}\n"
     ]
    }
   ],
   "source": [
    "def update_nested_value(d, keys, value):\n",
    "    temp = d\n",
    "    for key in keys[:-1]:\n",
    "        temp = temp.setdefault(key, {})\n",
    "    temp[keys[-1]] = value\n",
    "    return d\n",
    "\n",
    "nested_dict = {\"person\": {\"name\": \"John\", \"age\": 30}}\n",
    "print(update_nested_value(nested_dict, [\"person\", \"age\"], 31))\n"
   ]
  }
 ],
 "metadata": {
  "kernelspec": {
   "display_name": "base",
   "language": "python",
   "name": "python3"
  },
  "language_info": {
   "codemirror_mode": {
    "name": "ipython",
    "version": 3
   },
   "file_extension": ".py",
   "mimetype": "text/x-python",
   "name": "python",
   "nbconvert_exporter": "python",
   "pygments_lexer": "ipython3",
   "version": "3.10.10"
  }
 },
 "nbformat": 4,
 "nbformat_minor": 2
}
