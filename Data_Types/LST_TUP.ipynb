{
 "cells": [
  {
   "cell_type": "markdown",
   "metadata": {},
   "source": [
    "**LIST**\n",
    "# Basic Level (1-3)\n",
    "Sum of List Elements\n",
    "Write a Python function to find the sum of all elements in a list.\n",
    "Example: Input: [1, 2, 3, 4, 5] → Output: 15\n",
    "\n",
    "Find Maximum and Minimum in a List\n",
    "Write a Python program to find the maximum and minimum element in a list.\n",
    "Example: Input: [5, 1, 8, 3, 7] → Output: Max: 8, Min: 1\n",
    "\n",
    "Count Occurrence of an Element\n",
    "Write a Python program to count the occurrences of a specific element in a list.\n",
    "Example: List: [1, 2, 2, 3, 4, 2], Element: 2 → Output: 3\n"
   ]
  },
  {
   "cell_type": "code",
   "execution_count": 1,
   "metadata": {},
   "outputs": [
    {
     "name": "stdout",
     "output_type": "stream",
     "text": [
      "15\n"
     ]
    }
   ],
   "source": [
    "def sums(l):\n",
    "    s=0\n",
    "    for i in l:\n",
    "        s+=i\n",
    "    return s\n",
    "print(sums([1,2,3,4,5]))  "
   ]
  },
  {
   "cell_type": "code",
   "execution_count": 2,
   "metadata": {},
   "outputs": [
    {
     "name": "stdout",
     "output_type": "stream",
     "text": [
      "(1, 8)\n"
     ]
    }
   ],
   "source": [
    "def minmax(l):\n",
    "    return min(l),max(l)\n",
    "print(minmax([5,1,8,3,7]))"
   ]
  },
  {
   "cell_type": "code",
   "execution_count": 3,
   "metadata": {},
   "outputs": [
    {
     "name": "stdout",
     "output_type": "stream",
     "text": [
      "occurance of element is 3\n"
     ]
    }
   ],
   "source": [
    "def occ(l,e):\n",
    "    c=0\n",
    "    for i in l:\n",
    "        if e==i:\n",
    "            c+=1\n",
    "            continue\n",
    "    return c\n",
    "print(f\"occurance of element is {occ([1,2,2,3,4,2],2)}\")"
   ]
  },
  {
   "cell_type": "markdown",
   "metadata": {},
   "source": [
    "# Intermediate Level (4-7)\n",
    "Remove Duplicates from a List\n",
    "Write a Python program to remove duplicates from a list.\n",
    "Example: Input: [1, 2, 2, 3, 4, 4, 5] → Output: [1, 2, 3, 4, 5]\n",
    "\n",
    "Merge Two Sorted Lists\n",
    "Write a Python function to merge two sorted lists into one sorted list.\n",
    "Example: Input: [1, 3, 5] and [2, 4, 6] → Output: [1, 2, 3, 4, 5, 6]\n",
    "\n",
    "Find Second Largest Element\n",
    "Write a Python program to find the second largest element in a list.\n",
    "Example: Input: [10, 20, 4, 45, 99] → Output: 45\n",
    "\n",
    "Check if List is Sorted\n",
    "Write a Python program to check if a given list is sorted in ascending order.\n",
    "Example: Input: [1, 2, 3, 4, 5] → Output: True\n",
    "Input: [1, 3, 2] → Output: False"
   ]
  },
  {
   "cell_type": "code",
   "execution_count": null,
   "metadata": {},
   "outputs": [],
   "source": [
    "def dupe(l):\n",
    "    b=[]\n",
    "    for i in l:\n",
    "        if i not in b:\n",
    "            b.append(i)\n",
    "    return b\n",
    "print(dupe([1,2,2,3,4,4,5,7])) "
   ]
  },
  {
   "cell_type": "code",
   "execution_count": null,
   "metadata": {},
   "outputs": [],
   "source": [
    "# def ms(l1,l2):\n",
    "#     b=l1+l2\n",
    "#     b.sort()\n",
    "#     return b\n",
    "# print(ms([1,3,5],[2,4,6]))\n",
    "def ms(l1, l2):\n",
    "    m = []\n",
    "    i, j = 0, 0\n",
    "    while i < len(l1) and j < len(l2):\n",
    "        if l1[i] < l2[j]:\n",
    "            m.append(l1[i])\n",
    "            i += 1\n",
    "        else:\n",
    "            m.append(l2[j])\n",
    "            j += 1\n",
    "    m.extend(l1[i:])\n",
    "    m.extend(l2[j:])\n",
    "    return m\n",
    "\n",
    "print(ms([1, 3, 5], [2, 4, 6]))  \n"
   ]
  },
  {
   "cell_type": "code",
   "execution_count": null,
   "metadata": {},
   "outputs": [],
   "source": [
    "def sl(l):\n",
    "#     l.sort()\n",
    "#     return l[-2]\n",
    "# print(sl([10,20,4,45,99]))"
   ]
  },
  {
   "cell_type": "code",
   "execution_count": null,
   "metadata": {},
   "outputs": [],
   "source": [
    "# def ss(l):\n",
    "#     for i in l:\n",
    "#         if i>i+1:\n",
    "#             return False\n",
    "#     return True\n",
    "\n",
    "# print(ss([1,3,7,4,5]))\n",
    "\n",
    "def is_sorted(lst):\n",
    "    for i in range(len(lst) - 1):\n",
    "        if lst[i] > lst[i + 1]:\n",
    "            return False\n",
    "    return True\n",
    "\n",
    "print(is_sorted([1, 2, 3, 4, 5])) \n",
    "print(is_sorted([1, 3, 2]))     \n",
    "\n",
    "    "
   ]
  },
  {
   "cell_type": "markdown",
   "metadata": {},
   "source": [
    "# Advanced Level (8-10)\n",
    "Find Common Elements in Two Lists\n",
    "Write a Python program to find the common elements between two lists.\n",
    "Example: Input: [1, 2, 3, 4] and [3, 4, 5, 6] → Output: [3, 4]\n",
    "\n",
    "Rotate a List by N Positions\n",
    "Write a Python program to rotate a list by n positions.\n",
    "Example: List: [1, 2, 3, 4, 5], n = 2 → Output: [3, 4, 5, 1, 2]\n",
    "\n",
    "Flatten a Nested List\n",
    "Write a Python program to flatten a nested list.\n",
    "Example: Input: [1, [2, 3], [4, [5, 6]]] → Output: [1, 2, 3, 4, 5, 6]\n",
    "\n"
   ]
  },
  {
   "cell_type": "code",
   "execution_count": 4,
   "metadata": {},
   "outputs": [
    {
     "name": "stdout",
     "output_type": "stream",
     "text": [
      "[3, 4]\n"
     ]
    }
   ],
   "source": [
    "def fcomman(list1, list2):\n",
    "    return list(set(list1) & set(list2))  \n",
    "\n",
    "print(fcomman([1, 2, 3, 4], [3, 4, 5, 6])) \n"
   ]
  },
  {
   "cell_type": "code",
   "execution_count": 5,
   "metadata": {},
   "outputs": [
    {
     "name": "stdout",
     "output_type": "stream",
     "text": [
      "[3, 4, 5, 1, 2]\n"
     ]
    }
   ],
   "source": [
    "def rl(lst, n):\n",
    "    n = n % len(lst)  \n",
    "    return lst[n:] + lst[:n]\n",
    "\n",
    "print(rl([1, 2, 3, 4, 5], 2))  \n"
   ]
  },
  {
   "cell_type": "code",
   "execution_count": null,
   "metadata": {},
   "outputs": [],
   "source": [
    "def fl(nested_list):\n",
    "    f = []\n",
    "    for element in nested_list:\n",
    "        if isinstance(element, list):\n",
    "            f.extend(fl(element)) \n",
    "        else:\n",
    "            f.append(element)\n",
    "    return f\n",
    "\n",
    "print(fl([1, [2, 3], [4, [5, 6]]])) \n"
   ]
  },
  {
   "cell_type": "markdown",
   "metadata": {},
   "source": [
    "# Basic Level (1-3)\n",
    "Access Elements in a Tuple\n",
    "Write a Python program to access the first and last elements of a tuple.\n",
    "Example: Tuple: (10, 20, 30, 40) → Output: 10, 40\n",
    "\n",
    "Find Length of a Tuple\n",
    "Write a Python function to find the length of a given tuple.\n",
    "Example: Tuple: (1, 2, 3, 4) → Output: 4\n",
    "\n",
    "Check if Element Exists\n",
    "Write a Python program to check if a given element exists in a tuple.\n",
    "Example: Tuple: (5, 10, 15, 20), Element: 15 → Output: True"
   ]
  },
  {
   "cell_type": "code",
   "execution_count": 13,
   "metadata": {},
   "outputs": [
    {
     "name": "stdout",
     "output_type": "stream",
     "text": [
      "10\n",
      "4\n",
      "True\n"
     ]
    }
   ],
   "source": [
    "T=(10,20,30,40)\n",
    "print(T[0])\n",
    "print(len(T))\n",
    "E=30\n",
    "c=0\n",
    "for i in T:\n",
    "    if E==i:\n",
    "        c=1\n",
    "        break\n",
    "if c==0:\n",
    "    print(False)\n",
    "else:\n",
    "    print(True)        \n",
    "            "
   ]
  },
  {
   "cell_type": "markdown",
   "metadata": {},
   "source": [
    "# Intermediate Level (4-7)\n",
    "Convert Tuple to List and Vice Versa\n",
    "Write a Python program to convert a tuple into a list and then convert it back to a tuple.\n",
    "Example: Tuple: (1, 2, 3) → List: [1, 2, 3] → Tuple: (1, 2, 3)\n",
    "\n",
    "Find Maximum and Minimum in a Tuple\n",
    "Write a Python function to find the maximum and minimum values in a tuple.\n",
    "Example: Tuple: (10, 5, 20, 8) → Output: Max: 20, Min: 5\n",
    "\n",
    "Concatenate Two Tuples\n",
    "Write a Python program to concatenate two tuples.\n",
    "Example: (1, 2, 3) + (4, 5, 6) → Output: (1, 2, 3, 4, 5, 6)\n",
    "\n",
    "Count Occurrence of an Element\n",
    "Write a Python function to count how many times a given element occurs in a tuple.\n",
    "Example: Tuple: (1, 2, 2, 3, 2, 4) → Element: 2 → Output: 3"
   ]
  },
  {
   "cell_type": "code",
   "execution_count": 14,
   "metadata": {},
   "outputs": [
    {
     "name": "stdout",
     "output_type": "stream",
     "text": [
      "(40, 50, 60)\n",
      "[10, 20, 30]\n"
     ]
    }
   ],
   "source": [
    "T=(10,20,30)\n",
    "L=[40,50,60]\n",
    "print(tuple(L))\n",
    "print(list(T))"
   ]
  },
  {
   "cell_type": "code",
   "execution_count": 16,
   "metadata": {},
   "outputs": [
    {
     "name": "stdout",
     "output_type": "stream",
     "text": [
      "(30, 10)\n"
     ]
    }
   ],
   "source": [
    "def mm(T):\n",
    "    return max(T),min(T)\n",
    "print(mm((10,20,30)))"
   ]
  },
  {
   "cell_type": "code",
   "execution_count": 17,
   "metadata": {},
   "outputs": [
    {
     "name": "stdout",
     "output_type": "stream",
     "text": [
      "(10, 20, 30, 40, 50, 60)\n"
     ]
    }
   ],
   "source": [
    "T1=(10,20,30)\n",
    "T2=(40,50,60)\n",
    "print(T1+T2)"
   ]
  },
  {
   "cell_type": "code",
   "execution_count": 19,
   "metadata": {},
   "outputs": [
    {
     "name": "stdout",
     "output_type": "stream",
     "text": [
      "5\n"
     ]
    }
   ],
   "source": [
    "def co(T,E):\n",
    "    c=0\n",
    "    for i in T:\n",
    "        if E==i:\n",
    "            c+=1\n",
    "    return c\n",
    "\n",
    "print(co((10,20,30,40,20,20,20,20),20))        "
   ]
  },
  {
   "cell_type": "markdown",
   "metadata": {},
   "source": [
    "# Advanced Level (8-10)\n",
    "Find Index of an Element\n",
    "Write a Python program to find the index of a specific element in a tuple.\n",
    "Example: Tuple: (10, 20, 30, 40), Element: 30 → Output: 2\n",
    "\n",
    "Sort a Tuple of Integers\n",
    "Write a Python program to sort a tuple of integers in ascending order.\n",
    "Example: Tuple: (5, 2, 9, 1) → Output: (1, 2, 5, 9)\n",
    "\n",
    "Tuple of Tuples – Sum of Each Inner Tuple\n",
    "Write a Python program to calculate the sum of each inner tuple in a tuple of tuples.\n",
    "Example: ((1, 2), (3, 4), (5, 6)) → Output: [3, 7, 11]\n",
    "\n"
   ]
  },
  {
   "cell_type": "code",
   "execution_count": 2,
   "metadata": {},
   "outputs": [
    {
     "name": "stdout",
     "output_type": "stream",
     "text": [
      "2\n"
     ]
    }
   ],
   "source": [
    "def ind(T,E):\n",
    "    return T.index(E)\n",
    "print(ind((10,20,30, 40),30))"
   ]
  },
  {
   "cell_type": "code",
   "execution_count": 3,
   "metadata": {},
   "outputs": [
    {
     "name": "stdout",
     "output_type": "stream",
     "text": [
      "(1, 2, 5, 9)\n"
     ]
    }
   ],
   "source": [
    "def st(t):\n",
    "    s = tuple(sorted(t))  \n",
    "    return s\n",
    "\n",
    "print(st((5, 2, 9, 1)))  \n"
   ]
  },
  {
   "cell_type": "code",
   "execution_count": 5,
   "metadata": {},
   "outputs": [
    {
     "name": "stdout",
     "output_type": "stream",
     "text": [
      "[3, 7, 11]\n"
     ]
    }
   ],
   "source": [
    "def sit(tuples):\n",
    "    sum_list = [sum(i) for i in tuples]\n",
    "    return sum_list\n",
    "\n",
    "print(sit(((1, 2), (3, 4), (5, 6)))) \n"
   ]
  }
 ],
 "metadata": {
  "kernelspec": {
   "display_name": "base",
   "language": "python",
   "name": "python3"
  },
  "language_info": {
   "codemirror_mode": {
    "name": "ipython",
    "version": 3
   },
   "file_extension": ".py",
   "mimetype": "text/x-python",
   "name": "python",
   "nbconvert_exporter": "python",
   "pygments_lexer": "ipython3",
   "version": "3.10.10"
  }
 },
 "nbformat": 4,
 "nbformat_minor": 2
}
