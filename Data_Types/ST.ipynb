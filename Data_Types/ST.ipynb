{
 "cells": [
  {
   "cell_type": "markdown",
   "metadata": {},
   "source": [
    "**DAY 3**\n",
    "# Basic Level (1-3)\n",
    "Reverse a String\n",
    "Write a Python function to reverse a given string.\n",
    "Example: Input: \"hello\" → Output: \"olleh\"\n",
    "\n",
    "Check Palindrome\n",
    "Write a program to check if a given string is a palindrome (reads the same backward and forward).\n",
    "Example: \"madam\" → Output: Palindrome\n",
    "\n",
    "Count Vowels in a String\n",
    "Write a Python program to count the number of vowels in a given string.\n",
    "Example: Input: \"hello\" → Output: 2"
   ]
  },
  {
   "cell_type": "code",
   "execution_count": 1,
   "metadata": {},
   "outputs": [
    {
     "name": "stdout",
     "output_type": "stream",
     "text": [
      "olleh\n"
     ]
    }
   ],
   "source": [
    "a='hello'\n",
    "# print(a[::-1])\n",
    "# print(\"\".join(reversed(a)))\n",
    "b=''\n",
    "for i in a:\n",
    "    b=i+b\n",
    "print(b)   "
   ]
  },
  {
   "cell_type": "code",
   "execution_count": 2,
   "metadata": {},
   "outputs": [
    {
     "name": "stdout",
     "output_type": "stream",
     "text": [
      "True\n"
     ]
    }
   ],
   "source": [
    "def pal(a):\n",
    "    return a==a[::-1]\n",
    "print(pal('madam'))"
   ]
  },
  {
   "cell_type": "code",
   "execution_count": 3,
   "metadata": {},
   "outputs": [
    {
     "name": "stdout",
     "output_type": "stream",
     "text": [
      "3\n"
     ]
    }
   ],
   "source": [
    "def vov(a):\n",
    "    L=['a','e','i','o','u']\n",
    "    c=0\n",
    "    for i in a:\n",
    "        if i in L :\n",
    "            c+=1\n",
    "    return c\n",
    "\n",
    "print(vov('Maanvi')) "
   ]
  },
  {
   "cell_type": "markdown",
   "metadata": {},
   "source": [
    "# Intermediate Level (4-7)\n",
    "Remove Duplicates\n",
    "Write a Python program to remove duplicate characters from a string.\n",
    "Example: Input: \"programming\" → Output: \"progamin\"\n",
    "\n",
    "Find Longest Word in a Sentence\n",
    "Write a Python function that takes a sentence and returns the longest word.\n",
    "Example: Input: \"Python programming is fun\" → Output: \"programming\"\n",
    "\n",
    "String Rotation Check\n",
    "Write a Python program to check if one string is a rotation of another.\n",
    "Example: \"abcd\" and \"cdab\" → Output: Yes\n",
    "\n",
    "Count Occurrence of a Substring\n",
    "Write a Python program to count the occurrences of a given substring in a string.\n",
    "Example: Input: \"banana\", Substring: \"an\" → Output: 2"
   ]
  },
  {
   "cell_type": "code",
   "execution_count": 4,
   "metadata": {},
   "outputs": [
    {
     "name": "stdout",
     "output_type": "stream",
     "text": [
      "progamin\n"
     ]
    }
   ],
   "source": [
    "def dup(a):\n",
    "    b=''\n",
    "    a.split()\n",
    "    for i in a:\n",
    "        if i in b:\n",
    "            continue\n",
    "        else:\n",
    "            b+=i\n",
    "    return b\n",
    "\n",
    "print(dup('programming'))"
   ]
  },
  {
   "cell_type": "code",
   "execution_count": 5,
   "metadata": {},
   "outputs": [
    {
     "name": "stdout",
     "output_type": "stream",
     "text": [
      "programming\n"
     ]
    }
   ],
   "source": [
    "def longest(a):\n",
    "    a=a.split()\n",
    "    return max(a,key=len)\n",
    "\n",
    "print(longest(\"Python programming is fun\"))"
   ]
  },
  {
   "cell_type": "code",
   "execution_count": 6,
   "metadata": {},
   "outputs": [
    {
     "name": "stdout",
     "output_type": "stream",
     "text": [
      "NO\n"
     ]
    }
   ],
   "source": [
    "def rotate(a,b):\n",
    "    l=len(a)\n",
    "    c=0\n",
    "    if len(a)<len(b) or len(b)<len(a):\n",
    "        return 'No'\n",
    "    else:\n",
    "        a.split()\n",
    "        b.split()\n",
    "        for i in a:\n",
    "            if i in b:\n",
    "                c+=1\n",
    "        if c==l:\n",
    "            return 'Yes'\n",
    "        else:\n",
    "            return 'NO'\n",
    "        \n",
    "print(rotate(\"abcd\",\"cdag\")) "
   ]
  },
  {
   "cell_type": "code",
   "execution_count": 7,
   "metadata": {},
   "outputs": [
    {
     "name": "stdout",
     "output_type": "stream",
     "text": [
      "2\n"
     ]
    }
   ],
   "source": [
    "def countocc(a, b):\n",
    "    c = 0\n",
    "    i = 0\n",
    "    while i <= len(a) - len(b):\n",
    "        if a[i:i + len(b)] == b:\n",
    "            c += 1\n",
    "            i += len(b)  \n",
    "        else:\n",
    "            i += 1\n",
    "    return c\n",
    "\n",
    "print(countocc(\"banana\", \"an\")) "
   ]
  },
  {
   "cell_type": "markdown",
   "metadata": {},
   "source": [
    "# Advanced Level (8-10)\n",
    "Find First Non-Repeated Character\n",
    "Write a Python program to find the first non-repeated character in a string.\n",
    "Example: \"swiss\" → Output: \"w\"\n",
    "\n",
    "Check Anagram\n",
    "Write a Python function to check if two strings are anagrams of each other.\n",
    "Example: \"listen\" and \"silent\" → Output: Anagram\n",
    "\n",
    "Convert String to Title Case\n",
    "Write a Python program to convert a string to title case without using the title() method.\n",
    "Example: Input: \"hello world\" → Output: \"Hello World\""
   ]
  },
  {
   "cell_type": "code",
   "execution_count": 1,
   "metadata": {},
   "outputs": [
    {
     "name": "stdout",
     "output_type": "stream",
     "text": [
      "None\n"
     ]
    }
   ],
   "source": [
    "def repeater(a):\n",
    "    for i in a:\n",
    "        if a.count(i)==1:\n",
    "            return i\n",
    "        \n",
    "    return None\n",
    "\n",
    "print(repeater(\"sttss\")) "
   ]
  },
  {
   "cell_type": "code",
   "execution_count": 2,
   "metadata": {},
   "outputs": [
    {
     "name": "stdout",
     "output_type": "stream",
     "text": [
      "\"listen\" and \"silent\" are anagrams.\n"
     ]
    }
   ],
   "source": [
    "def areanagrams(str1, str2):\n",
    "    return sorted(str1) == sorted(str2)\n",
    "\n",
    "str1='listen'\n",
    "str2='silent'\n",
    "\n",
    "if areanagrams(str1, str2):\n",
    "    print(f'\"{str1}\" and \"{str2}\" are anagrams.')\n",
    "else:\n",
    "    print(f'\"{str1}\" and \"{str2}\" are not anagrams.')"
   ]
  },
  {
   "cell_type": "code",
   "execution_count": null,
   "metadata": {},
   "outputs": [],
   "source": [
    "a='hello world'\n",
    "b=a.title()\n",
    "print(b)"
   ]
  },
  {
   "cell_type": "code",
   "execution_count": null,
   "metadata": {},
   "outputs": [],
   "source": []
  }
 ],
 "metadata": {
  "kernelspec": {
   "display_name": "base",
   "language": "python",
   "name": "python3"
  },
  "language_info": {
   "codemirror_mode": {
    "name": "ipython",
    "version": 3
   },
   "file_extension": ".py",
   "mimetype": "text/x-python",
   "name": "python",
   "nbconvert_exporter": "python",
   "pygments_lexer": "ipython3",
   "version": "3.10.10"
  }
 },
 "nbformat": 4,
 "nbformat_minor": 2
}
